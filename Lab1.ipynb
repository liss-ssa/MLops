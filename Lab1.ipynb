{
 "cells": [
  {
   "cell_type": "markdown",
   "id": "fd02c909-e0f3-4b14-a67f-abd4f7459a1e",
   "metadata": {},
   "source": [
    "Основы работы с conda"
   ]
  },
  {
   "cell_type": "markdown",
   "id": "82785b6d-09b9-4ee8-9a17-13dfd9db79bb",
   "metadata": {},
   "source": [
    "conda — это менеджер пакетов и окружений, который часто используется в Data Science и MLOps для управления зависимостями и изоляции проектов.\n",
    "\n",
    "Если у тебя еще не установлен conda, ты можешь установить его, скачав Miniconda #[https://docs.conda.io/en/latest/miniconda.html] или Anaconda [https://www.anaconda.com/download]."
   ]
  },
  {
   "cell_type": "markdown",
   "id": "e670524c-8490-43ca-a83b-eb8167230215",
   "metadata": {},
   "source": [
    "## Основные команды conda\n",
    "### 1. Создание нового окружения:\n",
    "conda create --name test_env python=3.10\n",
    "### 2. Активация окружения:\n",
    "conda activate myenv\n",
    "### 3. Деактивация окружения:\n",
    "conda deactivate\n",
    "### 4. Установка пакетов:\n",
    "conda install numpy pandas\n",
    "### 5. Удаление пакетов:\n",
    "conda remove numpy\n",
    "### 6. Экспорт окружения в файл:\n",
    "conda env export > environment.yml"
   ]
  },
  {
   "cell_type": "code",
   "execution_count": 82,
   "id": "ec6e3861-63f7-4ace-8b00-7b3fbbebe053",
   "metadata": {},
   "outputs": [
    {
     "name": "stdout",
     "output_type": "stream",
     "text": [
      "Linux ds-VirtualBox 6.8.0-51-generic #52-Ubuntu SMP PREEMPT_DYNAMIC Thu Dec  5 13:09:44 UTC 2024 x86_64 x86_64 x86_64 GNU/Linux\n"
     ]
    }
   ],
   "source": [
    "!uname -a"
   ]
  },
  {
   "cell_type": "code",
   "execution_count": 1,
   "id": "88b15ceb-734d-4a67-99d8-328275b22df5",
   "metadata": {},
   "outputs": [],
   "source": [
    "#Пример получения списка установленный пакетов в системе и запись в файл list_libs.yml\n",
    "!conda list > list_libs.yml"
   ]
  },
  {
   "cell_type": "code",
   "execution_count": 2,
   "id": "7c5c23c6-2c10-411a-990c-1e8909eab588",
   "metadata": {},
   "outputs": [
    {
     "name": "stdout",
     "output_type": "stream",
     "text": [
      "nbclient                  0.10.2                   pypi_0    pypi\n",
      "nbconvert                 7.16.6                   pypi_0    pypi\n",
      "nbformat                  5.10.4                   pypi_0    pypi\n",
      "ncurses                   6.4                  h6a678d5_0  \n",
      "nest-asyncio              1.6.0                    pypi_0    pypi\n",
      "networkx                  3.3                      pypi_0    pypi\n",
      "notebook-shim             0.2.4                    pypi_0    pypi\n",
      "numpy                     2.2.2                    pypi_0    pypi\n"
     ]
    }
   ],
   "source": [
    "#Вывод списка библиотек из файла начинающихся на \"n\"\n",
    "!cat list_libs.yml | grep '^n'"
   ]
  },
  {
   "cell_type": "markdown",
   "id": "137a8323-e68c-4514-87ce-46a3b9fa7f1e",
   "metadata": {},
   "source": [
    "## Основные команды pip"
   ]
  },
  {
   "cell_type": "raw",
   "id": "e55a5c34-4fd7-49e3-b682-aa90304f2bc8",
   "metadata": {},
   "source": [
    "1.Выводим список установленный пакетов"
   ]
  },
  {
   "cell_type": "code",
   "execution_count": 3,
   "id": "c64d7fae-9ec6-4c3a-9f48-cea782d38c09",
   "metadata": {
    "scrolled": true
   },
   "outputs": [
    {
     "name": "stdout",
     "output_type": "stream",
     "text": [
      "Package                                  Version\n",
      "---------------------------------------- --------------\n",
      "aiohappyeyeballs                         2.4.4\n",
      "aiohttp                                  3.11.11\n",
      "aiosignal                                1.3.2\n",
      "aiosqlite                                0.20.0\n",
      "alembic                                  1.14.1\n",
      "anaconda-anon-usage                      0.5.0\n",
      "anyio                                    4.8.0\n",
      "apache-airflow                           2.10.4\n",
      "apache-airflow-providers-common-compat   1.3.0\n",
      "apache-airflow-providers-common-io       1.5.0\n",
      "apache-airflow-providers-common-sql      1.21.0\n",
      "apache-airflow-providers-fab             1.5.2\n",
      "apache-airflow-providers-ftp             3.12.0\n",
      "apache-airflow-providers-http            5.0.0\n",
      "apache-airflow-providers-imap            3.8.0\n",
      "apache-airflow-providers-postgres        6.0.0\n",
      "apache-airflow-providers-smtp            1.9.0\n",
      "apache-airflow-providers-sqlite          4.0.0\n",
      "apispec                                  6.8.1\n",
      "archspec                                 0.2.3\n",
      "argcomplete                              3.5.3\n",
      "argon2-cffi                              23.1.0\n",
      "argon2-cffi-bindings                     21.2.0\n",
      "arrow                                    1.3.0\n",
      "asgiref                                  3.8.1\n",
      "asttokens                                3.0.0\n",
      "async-lru                                2.0.4\n",
      "asyncpg                                  0.30.0\n",
      "attrs                                    25.1.0\n",
      "babel                                    2.16.0\n",
      "beautifulsoup4                           4.13.1\n",
      "bleach                                   6.2.0\n",
      "blinker                                  1.9.0\n",
      "boltons                                  23.0.0\n",
      "Brotli                                   1.0.9\n",
      "cachelib                                 0.9.0\n",
      "certifi                                  2024.8.30\n",
      "cffi                                     1.17.1\n",
      "charset-normalizer                       3.3.2\n",
      "click                                    8.1.8\n",
      "clickclick                               20.10.2\n",
      "colorama                                 0.4.6\n",
      "colorlog                                 6.9.0\n",
      "comm                                     0.2.2\n",
      "conda                                    24.11.1\n",
      "conda-anaconda-telemetry                 0.1.1\n",
      "conda-content-trust                      0.2.0\n",
      "conda-libmamba-solver                    24.9.0\n",
      "conda-package-handling                   2.4.0\n",
      "conda_package_streaming                  0.11.0\n",
      "ConfigUpdater                            3.2\n",
      "connexion                                2.14.2\n",
      "contourpy                                1.3.1\n",
      "cron-descriptor                          1.4.5\n",
      "croniter                                 6.0.0\n",
      "cryptography                             43.0.3\n",
      "cycler                                   0.12.1\n",
      "debugpy                                  1.8.12\n",
      "decorator                                5.1.1\n",
      "defusedxml                               0.7.1\n",
      "Deprecated                               1.2.18\n",
      "dill                                     0.3.9\n",
      "distro                                   1.9.0\n",
      "dnspython                                2.7.0\n",
      "email_validator                          2.2.0\n",
      "executing                                2.2.0\n",
      "fastjsonschema                           2.21.1\n",
      "filelock                                 3.13.1\n",
      "Flask                                    2.2.5\n",
      "Flask-AppBuilder                         4.5.2\n",
      "Flask-Babel                              2.0.0\n",
      "Flask-Caching                            2.3.0\n",
      "Flask-JWT-Extended                       4.7.1\n",
      "Flask-Limiter                            3.10.1\n",
      "Flask-Login                              0.6.3\n",
      "Flask-Session                            0.5.0\n",
      "Flask-SQLAlchemy                         2.5.1\n",
      "Flask-WTF                                1.2.2\n",
      "fonttools                                4.55.8\n",
      "fqdn                                     1.5.1\n",
      "frozendict                               2.4.2\n",
      "frozenlist                               1.5.0\n",
      "fsspec                                   2024.12.0\n",
      "google-re2                               1.1.20240702\n",
      "googleapis-common-protos                 1.66.0\n",
      "greenlet                                 3.1.1\n",
      "grpcio                                   1.70.0\n",
      "gunicorn                                 23.0.0\n",
      "h11                                      0.14.0\n",
      "httpcore                                 1.0.7\n",
      "httpx                                    0.28.1\n",
      "idna                                     3.7\n",
      "importlib_metadata                       8.5.0\n",
      "inflection                               0.5.1\n",
      "ipykernel                                6.29.5\n",
      "ipython                                  8.32.0\n",
      "isoduration                              20.11.0\n",
      "itsdangerous                             2.2.0\n",
      "jedi                                     0.19.2\n",
      "Jinja2                                   3.1.5\n",
      "jmespath                                 1.0.1\n",
      "json5                                    0.10.0\n",
      "jsonpatch                                1.33\n",
      "jsonpointer                              2.1\n",
      "jsonschema                               4.23.0\n",
      "jsonschema-specifications                2024.10.1\n",
      "jupyter_client                           8.6.3\n",
      "jupyter_core                             5.7.2\n",
      "jupyter-events                           0.12.0\n",
      "jupyter-lsp                              2.2.5\n",
      "jupyter_server                           2.15.0\n",
      "jupyter_server_terminals                 0.5.3\n",
      "jupyterlab                               4.3.5\n",
      "jupyterlab_pygments                      0.3.0\n",
      "jupyterlab_server                        2.27.3\n",
      "kiwisolver                               1.4.8\n",
      "lazy-object-proxy                        1.10.0\n",
      "libmambapy                               1.5.11\n",
      "limits                                   4.0.1\n",
      "linkify-it-py                            2.0.3\n",
      "lockfile                                 0.12.2\n",
      "Mako                                     1.3.8\n",
      "markdown-it-py                           3.0.0\n",
      "MarkupSafe                               3.0.2\n",
      "marshmallow                              3.26.0\n",
      "marshmallow-oneofschema                  3.1.1\n",
      "marshmallow-sqlalchemy                   0.28.2\n",
      "matplotlib                               3.10.0\n",
      "matplotlib-inline                        0.1.7\n",
      "mdit-py-plugins                          0.4.2\n",
      "mdurl                                    0.1.2\n",
      "menuinst                                 2.2.0\n",
      "methodtools                              0.4.7\n",
      "mistune                                  3.1.1\n",
      "more-itertools                           10.6.0\n",
      "mpmath                                   1.3.0\n",
      "multidict                                6.1.0\n",
      "nbclient                                 0.10.2\n",
      "nbconvert                                7.16.6\n",
      "nbformat                                 5.10.4\n",
      "nest-asyncio                             1.6.0\n",
      "networkx                                 3.3\n",
      "notebook_shim                            0.2.4\n",
      "numpy                                    2.2.2\n",
      "opentelemetry-api                        1.29.0\n",
      "opentelemetry-exporter-otlp              1.29.0\n",
      "opentelemetry-exporter-otlp-proto-common 1.29.0\n",
      "opentelemetry-exporter-otlp-proto-grpc   1.29.0\n",
      "opentelemetry-exporter-otlp-proto-http   1.29.0\n",
      "opentelemetry-proto                      1.29.0\n",
      "opentelemetry-sdk                        1.29.0\n",
      "opentelemetry-semantic-conventions       0.50b0\n",
      "ordered-set                              4.1.0\n",
      "overrides                                7.7.0\n",
      "packaging                                24.1\n",
      "pandocfilters                            1.5.1\n",
      "parso                                    0.8.4\n",
      "pathspec                                 0.12.1\n",
      "pendulum                                 3.0.0\n",
      "pexpect                                  4.9.0\n",
      "pillow                                   11.0.0\n",
      "pip                                      24.2\n",
      "platformdirs                             3.10.0\n",
      "pluggy                                   1.5.0\n",
      "prison                                   0.2.1\n",
      "prometheus_client                        0.21.1\n",
      "prompt_toolkit                           3.0.50\n",
      "propcache                                0.2.1\n",
      "protobuf                                 5.29.3\n",
      "psutil                                   6.1.1\n",
      "psycopg2-binary                          2.9.10\n",
      "ptyprocess                               0.7.0\n",
      "pure_eval                                0.2.3\n",
      "pycosat                                  0.6.6\n",
      "pycparser                                2.21\n",
      "Pygments                                 2.19.1\n",
      "PyJWT                                    2.10.1\n",
      "pyparsing                                3.2.1\n",
      "PySocks                                  1.7.1\n",
      "python-daemon                            3.1.2\n",
      "python-dateutil                          2.9.0.post0\n",
      "python-json-logger                       3.2.1\n",
      "python-nvd3                              0.16.0\n",
      "python-slugify                           8.0.4\n",
      "pytz                                     2024.2\n",
      "PyYAML                                   6.0.2\n",
      "pyzmq                                    26.2.1\n",
      "referencing                              0.36.2\n",
      "requests                                 2.32.3\n",
      "requests-toolbelt                        1.0.0\n",
      "rfc3339-validator                        0.1.4\n",
      "rfc3986-validator                        0.1.1\n",
      "rich                                     13.9.4\n",
      "rich-argparse                            1.6.0\n",
      "rpds-py                                  0.22.3\n",
      "ruamel.yaml                              0.18.6\n",
      "ruamel.yaml.clib                         0.2.8\n",
      "Send2Trash                               1.8.3\n",
      "setproctitle                             1.3.4\n",
      "setuptools                               75.1.0\n",
      "six                                      1.17.0\n",
      "sniffio                                  1.3.1\n",
      "soupsieve                                2.6\n",
      "SQLAlchemy                               1.4.54\n",
      "SQLAlchemy-JSONField                     1.0.2\n",
      "SQLAlchemy-Utils                         0.41.2\n",
      "sqlparse                                 0.5.3\n",
      "stack-data                               0.6.3\n",
      "sympy                                    1.13.1\n",
      "tabulate                                 0.9.0\n",
      "tenacity                                 9.0.0\n",
      "termcolor                                2.5.0\n",
      "terminado                                0.18.1\n",
      "text-unidecode                           1.3\n",
      "time-machine                             2.16.0\n",
      "tinycss2                                 1.4.0\n",
      "torch                                    2.6.0+cpu\n",
      "torchaudio                               2.6.0+cpu\n",
      "torchvision                              0.21.0+cpu\n",
      "tornado                                  6.4.2\n",
      "tqdm                                     4.66.5\n",
      "traitlets                                5.14.3\n",
      "re                               0.8.0\n",
      "types-python-dateutil                    2.9.0.20241206\n",
      "typing_extensions                        4.12.2\n",
      "tzdata                                   2025.1\n",
      "uc-micro-py                              1.0.3\n",
      "universal_pathlib                        0.2.6\n",
      "uri-template                             1.3.0\n",
      "urllib3                                  2.2.3\n",
      "wcwidth                                  0.2.13\n",
      "webcolors                                24.11.1\n",
      "webencodings                             0.5.1\n",
      "websocket-client                         1.8.0\n",
      "Werkzeug                                 2.2.3\n",
      "wheel                                    0.44.0\n",
      "wirerope                                 1.0.0\n",
      "wrapt                                    1.17.2\n",
      "WTForms                                  3.2.1\n",
      "yarl                                     1.18.3\n",
      "zipp                                     3.21.0\n",
      "zstandard                                0.23.0\n"
     ]
    }
   ],
   "source": [
    "!pip list "
   ]
  },
  {
   "cell_type": "raw",
   "id": "fc2256fa-b87e-45c3-bbc4-70f1e50850a4",
   "metadata": {},
   "source": [
    "2. Информация о выбранном пакете"
   ]
  },
  {
   "cell_type": "code",
   "execution_count": 4,
   "id": "13b9eac2-a68b-4b17-84ff-41c8adc7a553",
   "metadata": {
    "scrolled": true
   },
   "outputs": [
    {
     "name": "stdout",
     "output_type": "stream",
     "text": [
      "Name: apache-airflow\n",
      "Version: 2.10.4\n",
      "Summary: Programmatically author, schedule and monitor data pipelines\n",
      "Home-page: https://airflow.apache.org/\n",
      "Author: \n",
      "Author-email: Apache Software Foundation <dev@airflow.apache.org>\n",
      "License: \n",
      "Location: /home/ds/miniconda3/lib/python3.12/site-packages\n",
      "Requires: alembic, apache-airflow-providers-common-compat, apache-airflow-providers-common-io, apache-airflow-providers-common-sql, apache-airflow-providers-fab, apache-airflow-providers-ftp, apache-airflow-providers-http, apache-airflow-providers-imap, apache-airflow-providers-smtp, apache-airflow-providers-sqlite, argcomplete, asgiref, attrs, blinker, colorlog, configupdater, connexion, cron-descriptor, croniter, cryptography, deprecated, dill, flask, flask-caching, flask-session, flask-wtf, fsspec, google-re2, gunicorn, httpx, itsdangerous, jinja2, jsonschema, lazy-object-proxy, linkify-it-py, lockfile, markdown-it-py, markupsafe, marshmallow-oneofschema, mdit-py-plugins, methodtools, opentelemetry-api, opentelemetry-exporter-otlp, packaging, pathspec, pendulum, pluggy, psutil, pygments, pyjwt, python-daemon, python-dateutil, python-nvd3, python-slugify, requests, requests-toolbelt, rfc3339-validator, rich, rich-argparse, setproctitle, sqlalchemy, sqlalchemy-jsonfield, tabulate, tenacity, termcolor, universal-pathlib, werkzeug\n",
      "Required-by: apache-airflow-providers-common-compat, apache-airflow-providers-common-io, apache-airflow-providers-common-sql, apache-airflow-providers-fab, apache-airflow-providers-ftp, apache-airflow-providers-http, apache-airflow-providers-imap, apache-airflow-providers-postgres, apache-airflow-providers-smtp, apache-airflow-providers-sqlite\n"
     ]
    }
   ],
   "source": [
    "!pip show apache-airflow"
   ]
  },
  {
   "cell_type": "raw",
   "id": "dc61cebd-3950-45f1-a9e6-e342a04ebad3",
   "metadata": {},
   "source": [
    "3. Информация о процессоре"
   ]
  },
  {
   "cell_type": "code",
   "execution_count": 5,
   "id": "76b1b821-0ed0-416e-a0e1-a3026f9f86f2",
   "metadata": {},
   "outputs": [
    {
     "name": "stdout",
     "output_type": "stream",
     "text": [
      "Архитектура:               x86_64\n",
      "  CPU op-mode(s):          32-bit, 64-bit\n",
      "  Address sizes:           39 bits physical, 48 bits virtual\n",
      "  Порядок байт:            Little Endian\n",
      "CPU(s):                    3\n",
      "  On-line CPU(s) list:     0-2\n",
      "ID прроизводителя:         GenuineIntel\n",
      "  Имя модели:              11th Gen Intel(R) Core(TM) i5-11400H @ 2.70GHz\n",
      "    Семейство ЦПУ:         6\n",
      "    Модель:                141\n",
      "    Потоков на ядро:       1\n",
      "    Ядер на сокет:         3\n",
      "    Сокетов:               1\n",
      "    Степпинг:              1\n",
      "    BogoMIPS:              5375,99\n",
      "    Флаги:                 fpu vme de pse tsc msr pae mce cx8 apic sep mtrr pge \n",
      "                           mca cmov pat pse36 clflush mmx fxsr sse sse2 ht sysca\n",
      "                           ll nx rdtscp lm constant_tsc rep_good nopl xtopology \n",
      "                           nonstop_tsc cpuid tsc_known_freq pni pclmulqdq ssse3 \n",
      "                           cx16 pcid sse4_1 sse4_2 x2apic movbe popcnt aes xsave\n",
      "                            avx rdrand hypervisor lahf_lm abm 3dnowprefetch pti \n",
      "                           fsgsbase avx2 invpcid rdseed clflushopt md_clear flus\n",
      "                           h_l1d arch_capabilities\n",
      "Virtualization features:   \n",
      "  Разработчик гипервизора: KVM\n",
      "  Тип виртуализации:       полный\n",
      "Caches (sum of all):       \n",
      "  L1d:                     144 KiB (3 instances)\n",
      "  L1i:                     96 KiB (3 instances)\n",
      "  L2:                      3,8 MiB (3 instances)\n",
      "  L3:                      36 MiB (3 instances)\n",
      "NUMA:                      \n",
      "  NUMA node(s):            1\n",
      "  NUMA node0 CPU(s):       0-2\n",
      "Vulnerabilities:           \n",
      "  Gather data sampling:    Unknown: Dependent on hypervisor status\n",
      "  Itlb multihit:           KVM: Mitigation: VMX unsupported\n",
      "  L1tf:                    Mitigation; PTE Inversion\n",
      "  Mds:                     Mitigation; Clear CPU buffers; SMT Host state unknown\n",
      "  Meltdown:                Mitigation; PTI\n",
      "  Mmio stale data:         Not affected\n",
      "  Reg file data sampling:  Not affected\n",
      "  Retbleed:                Not affected\n",
      "  Spec rstack overflow:    Not affected\n",
      "  Spec store bypass:       Vulnerable\n",
      "  Spectre v1:              Mitigation; usercopy/swapgs barriers and __user point\n",
      "                           er sanitization\n",
      "  Spectre v2:              Mitigation; Retpolines; STIBP disabled; RSB filling; \n",
      "                           PBRSB-eIBRS Not affected; BHI Retpoline\n",
      "  Srbds:                   Not affected\n",
      "  Tsx async abort:         Not affected\n"
     ]
    }
   ],
   "source": [
    "!lscpu"
   ]
  },
  {
   "cell_type": "markdown",
   "id": "9ba93bfd-6a28-40cb-9065-bc10108a3ec5",
   "metadata": {},
   "source": [
    "### Библиотека Pytorch\n",
    "PyTorch — это библиотека для машинного обучения, предназначенная для построения архитектур нейронных сетей и обучения."
   ]
  },
  {
   "cell_type": "code",
   "execution_count": 1,
   "id": "ed45887a-4d8c-4015-8e2d-ec13bcdb3fb0",
   "metadata": {
    "tags": []
   },
   "outputs": [],
   "source": [
    "import torch"
   ]
  },
  {
   "cell_type": "code",
   "execution_count": 2,
   "id": "9e962e44-d2f3-4a03-a0d1-ed0d00f7ef85",
   "metadata": {
    "tags": []
   },
   "outputs": [
    {
     "data": {
      "text/plain": [
       "tensor([4., 0., 4.])"
      ]
     },
     "execution_count": 2,
     "metadata": {},
     "output_type": "execute_result"
    }
   ],
   "source": [
    "a = torch.tensor([1.,2,3])\n",
    "b = torch.tensor([3,-2,1])\n",
    "c = a + b\n",
    "c"
   ]
  },
  {
   "cell_type": "code",
   "execution_count": 3,
   "id": "e4ca1d9b-fce2-4d91-9638-9581f6a5b310",
   "metadata": {
    "tags": []
   },
   "outputs": [
    {
     "data": {
      "text/plain": [
       "False"
      ]
     },
     "execution_count": 3,
     "metadata": {},
     "output_type": "execute_result"
    }
   ],
   "source": [
    "torch.cuda.is_available()"
   ]
  },
  {
   "cell_type": "code",
   "execution_count": 4,
   "id": "a0049f6f-26a9-4002-a209-c1ccda0b3234",
   "metadata": {
    "tags": []
   },
   "outputs": [
    {
     "name": "stdout",
     "output_type": "stream",
     "text": [
      "tensor([1.3333, 2.6667, 4.0000])\n"
     ]
    }
   ],
   "source": [
    "a = torch.tensor([1.,2,3], requires_grad=True)\n",
    "b = a + 2\n",
    "c = a * a * 2\n",
    "c = c.mean()\n",
    "c.backward()  # Вычисляет градиенты\n",
    "print(a.grad)"
   ]
  },
  {
   "cell_type": "markdown",
   "id": "860c1d62-cfa4-46ed-9e51-0b7feef3c2c1",
   "metadata": {},
   "source": [
    "### Пример обучения нейронной сети для изображений"
   ]
  },
  {
   "cell_type": "code",
   "execution_count": 5,
   "id": "4a2558e2-a5e2-4050-ae34-fbeacdb0beed",
   "metadata": {
    "tags": []
   },
   "outputs": [],
   "source": [
    "import torch.nn as nn\n",
    "import torch.nn.functional as F\n",
    "from torch.utils.data import Dataset, DataLoader\n",
    "from torchvision import transforms\n",
    "from torchvision.datasets import MNIST\n",
    "import matplotlib.pyplot as plt\n",
    "\n",
    "#Пример построения графа нейросети с полносвязнными слоями\n",
    "class Net(nn.Module):\n",
    "    def __init__(self):\n",
    "        super(Net, self).__init__()\n",
    "        self.fc1 = nn.Linear(16 * 5 * 5, 120)\n",
    "        self.fc2 = nn.Linear(120, 84)\n",
    "        self.fc3 = nn.Linear(84, 10)\n",
    "\n",
    "    def forward(self, x):\n",
    "        x = F.relu(self.fc1(x))\n",
    "        x = F.relu(self.fc2(x))\n",
    "        x = self.fc3(x)\n",
    "        return x\n",
    "\n",
    "model = Net()"
   ]
  },
  {
   "cell_type": "code",
   "execution_count": 6,
   "id": "41e58d1f-442e-423d-be39-1770b0747bc1",
   "metadata": {
    "tags": []
   },
   "outputs": [
    {
     "name": "stdout",
     "output_type": "stream",
     "text": [
      "torch.Size([1, 10])\n"
     ]
    }
   ],
   "source": [
    "import torch\n",
    "import torch.nn as nn\n",
    "import torch.nn.functional as F\n",
    "from tqdm import tqdm\n",
    "\n",
    "class PatchEmbedding(nn.Module):\n",
    "    def __init__(self, img_size, patch_size, in_channels, embed_dim):\n",
    "        super(PatchEmbedding, self).__init__()\n",
    "        self.patch_size = patch_size\n",
    "        self.proj = nn.Conv2d(in_channels, embed_dim, kernel_size=patch_size, stride=patch_size)\n",
    "\n",
    "    def forward(self, x):\n",
    "        x = self.proj(x)  # (B, C, H, W) -> (B, embed_dim, H/patch_size, W/patch_size)\n",
    "        x = x.flatten(2)  # (B, embed_dim, H/patch_size * W/patch_size)\n",
    "        x = x.transpose(1, 2)  # (B, H/patch_size * W/patch_size, embed_dim)\n",
    "        return x\n",
    "\n",
    "class MultiHeadAttention(nn.Module):\n",
    "    def __init__(self, embed_dim, num_heads):\n",
    "        super(MultiHeadAttention, self).__init__()\n",
    "        assert embed_dim % num_heads == 0\n",
    "\n",
    "        self.embed_dim = embed_dim\n",
    "        self.num_heads = num_heads\n",
    "        self.head_dim = embed_dim // num_heads\n",
    "\n",
    "        self.query_linear = nn.Linear(embed_dim, embed_dim)\n",
    "        self.key_linear = nn.Linear(embed_dim, embed_dim)\n",
    "        self.value_linear = nn.Linear(embed_dim, embed_dim)\n",
    "        self.out_linear = nn.Linear(embed_dim, embed_dim)\n",
    "\n",
    "    def attention(self, query, key, value, mask=None):\n",
    "        scores = torch.matmul(query, key.transpose(-2, -1)) / torch.sqrt(torch.tensor(self.head_dim, dtype=torch.float32))\n",
    "        if mask is not None:\n",
    "            scores = scores.masked_fill(mask == 0, -1e9)\n",
    "        attn = F.softmax(scores, dim=-1)\n",
    "        context = torch.matmul(attn, value)\n",
    "        return context, attn\n",
    "\n",
    "    def forward(self, x):\n",
    "        batch_size = x.size(0)\n",
    "\n",
    "        query = self.query_linear(x).view(batch_size, -1, self.num_heads, self.head_dim).transpose(1, 2)\n",
    "        key = self.key_linear(x).view(batch_size, -1, self.num_heads, self.head_dim).transpose(1, 2)\n",
    "        value = self.value_linear(x).view(batch_size, -1, self.num_heads, self.head_dim).transpose(1, 2)\n",
    "\n",
    "        context, _ = self.attention(query, key, value)\n",
    "        context = context.transpose(1, 2).contiguous().view(batch_size, -1, self.embed_dim)\n",
    "        return self.out_linear(context)\n",
    "\n",
    "class FeedForward(nn.Module):\n",
    "    def __init__(self, embed_dim, hidden_dim, dropout=0.1):\n",
    "        super(FeedForward, self).__init__()\n",
    "        self.linear1 = nn.Linear(embed_dim, hidden_dim)\n",
    "        self.dropout = nn.Dropout(dropout)\n",
    "        self.linear2 = nn.Linear(hidden_dim, embed_dim)\n",
    "\n",
    "    def forward(self, x):\n",
    "        return self.linear2(self.dropout(F.relu(self.linear1(x))))\n",
    "\n",
    "class TransformerLayer(nn.Module):\n",
    "    def __init__(self, embed_dim, num_heads, hidden_dim, dropout=0.1):\n",
    "        super(TransformerLayer, self).__init__()\n",
    "        self.attn = MultiHeadAttention(embed_dim, num_heads)\n",
    "        self.ff = FeedForward(embed_dim, hidden_dim, dropout)\n",
    "        self.norm1 = nn.LayerNorm(embed_dim)\n",
    "        self.norm2 = nn.LayerNorm(embed_dim)\n",
    "        self.dropout = nn.Dropout(dropout)\n",
    "\n",
    "    def forward(self, x):\n",
    "        attn_output = self.attn(x)\n",
    "        out1 = self.norm1(x + self.dropout(attn_output))\n",
    "        ff_output = self.ff(out1)\n",
    "        out2 = self.norm2(out1 + self.dropout(ff_output))\n",
    "        return out2\n",
    "\n",
    "class VisionTransformer(nn.Module):\n",
    "    def __init__(self, img_size, patch_size, in_channels, embed_dim, num_heads, hidden_dim, num_layers, num_classes, dropout=0.1):\n",
    "        super(VisionTransformer, self).__init__()\n",
    "        self.patch_embed = PatchEmbedding(img_size, patch_size, in_channels, embed_dim)\n",
    "        self.layers = nn.ModuleList([\n",
    "            TransformerLayer(embed_dim, num_heads, hidden_dim, dropout)\n",
    "            for _ in range(num_layers)\n",
    "        ])\n",
    "        self.linear = nn.Linear(embed_dim, num_classes)\n",
    "\n",
    "    def forward(self, x):\n",
    "        x = self.patch_embed(x)\n",
    "        for layer in self.layers:\n",
    "            x = layer(x)\n",
    "        x = x.mean(dim=1)  # Усреднение по последовательности\n",
    "        return self.linear(x)\n",
    "\n",
    "# Пример использования\n",
    "img_size = 28\n",
    "patch_size = 8\n",
    "in_channels = 1  # Для черно-белых изображений\n",
    "embed_dim = 14\n",
    "num_heads = 2\n",
    "hidden_dim = 6\n",
    "num_layers = 1\n",
    "num_classes = 10  # Например, для классификации цифр от 0 до 9\n",
    "dropout = 0.1\n",
    "\n",
    "model = VisionTransformer(img_size, patch_size, in_channels, embed_dim, num_heads, hidden_dim, num_layers, num_classes, dropout)\n",
    "\n",
    "# Пример входных данных\n",
    "x = torch.rand(1, in_channels, img_size, img_size)  # Батч из 32 изображений размером 28x28\n",
    "\n",
    "output = model(x)\n",
    "print(output.shape)  # Выходной тензор"
   ]
  },
  {
   "cell_type": "code",
   "execution_count": 7,
   "id": "1f19479f-4bba-438e-9b3a-132b8cdb1171",
   "metadata": {
    "tags": []
   },
   "outputs": [],
   "source": [
    "transform=transforms.Compose([\n",
    "    transforms.ToTensor(),\n",
    "    transforms.Normalize((0.1307,), (0.3081,))\n",
    "    ])\n",
    "dataset1 = MNIST('../data', train=True, download=True,\n",
    "                   transform=transform)\n",
    "dataset2 = MNIST('../data', train=False,\n",
    "                   transform=transform)\n",
    "train_loader = torch.utils.data.DataLoader(dataset1,)\n",
    "test_loader = torch.utils.data.DataLoader(dataset2)"
   ]
  },
  {
   "cell_type": "code",
   "execution_count": 8,
   "id": "ae7231cb-3790-4a2f-980b-b65c801697a9",
   "metadata": {
    "tags": []
   },
   "outputs": [
    {
     "name": "stdout",
     "output_type": "stream",
     "text": [
      "torch.Size([1, 1, 28, 28]) torch.Size([1])\n"
     ]
    }
   ],
   "source": [
    "inputs, labels = next(iter(train_loader)) \n",
    "print(inputs.shape, labels.shape)"
   ]
  },
  {
   "cell_type": "code",
   "execution_count": 9,
   "id": "baa92c47-7567-4c36-b321-21b7bf26351a",
   "metadata": {
    "tags": []
   },
   "outputs": [],
   "source": [
    "criterion = nn.CrossEntropyLoss()\n",
    "optimizer = torch.optim.SGD(model.parameters(), lr=0.005, momentum=0.9)"
   ]
  },
  {
   "cell_type": "code",
   "execution_count": 10,
   "id": "f26ac36f-eae8-4feb-97fd-f302f6d06bb8",
   "metadata": {
    "tags": []
   },
   "outputs": [
    {
     "name": "stderr",
     "output_type": "stream",
     "text": [
      "  7%|▋         | 1/15 [01:56<27:11, 116.54s/it]"
     ]
    },
    {
     "name": "stdout",
     "output_type": "stream",
     "text": [
      "Accuracy: 39%)\n",
      "\n"
     ]
    },
    {
     "name": "stderr",
     "output_type": "stream",
     "text": [
      " 13%|█▎        | 2/15 [03:53<25:14, 116.53s/it]"
     ]
    },
    {
     "name": "stdout",
     "output_type": "stream",
     "text": [
      "Accuracy: 36%)\n",
      "\n"
     ]
    },
    {
     "name": "stderr",
     "output_type": "stream",
     "text": [
      " 20%|██        | 3/15 [05:49<23:15, 116.30s/it]"
     ]
    },
    {
     "name": "stdout",
     "output_type": "stream",
     "text": [
      "Accuracy: 25%)\n",
      "\n"
     ]
    },
    {
     "name": "stderr",
     "output_type": "stream",
     "text": [
      " 27%|██▋       | 4/15 [07:46<21:22, 116.63s/it]"
     ]
    },
    {
     "name": "stdout",
     "output_type": "stream",
     "text": [
      "Accuracy: 29%)\n",
      "\n"
     ]
    },
    {
     "name": "stderr",
     "output_type": "stream",
     "text": [
      " 33%|███▎      | 5/15 [09:42<19:25, 116.56s/it]"
     ]
    },
    {
     "name": "stdout",
     "output_type": "stream",
     "text": [
      "Accuracy: 32%)\n",
      "\n"
     ]
    },
    {
     "name": "stderr",
     "output_type": "stream",
     "text": [
      " 40%|████      | 6/15 [11:38<17:27, 116.36s/it]"
     ]
    },
    {
     "name": "stdout",
     "output_type": "stream",
     "text": [
      "Accuracy: 33%)\n",
      "\n"
     ]
    },
    {
     "name": "stderr",
     "output_type": "stream",
     "text": [
      " 47%|████▋     | 7/15 [13:35<15:31, 116.39s/it]"
     ]
    },
    {
     "name": "stdout",
     "output_type": "stream",
     "text": [
      "Accuracy: 34%)\n",
      "\n"
     ]
    },
    {
     "name": "stderr",
     "output_type": "stream",
     "text": [
      " 53%|█████▎    | 8/15 [15:31<13:34, 116.33s/it]"
     ]
    },
    {
     "name": "stdout",
     "output_type": "stream",
     "text": [
      "Accuracy: 35%)\n",
      "\n"
     ]
    },
    {
     "name": "stderr",
     "output_type": "stream",
     "text": [
      " 60%|██████    | 9/15 [17:30<11:43, 117.33s/it]"
     ]
    },
    {
     "name": "stdout",
     "output_type": "stream",
     "text": [
      "Accuracy: 35%)\n",
      "\n"
     ]
    },
    {
     "name": "stderr",
     "output_type": "stream",
     "text": [
      " 67%|██████▋   | 10/15 [19:27<09:45, 117.18s/it]"
     ]
    },
    {
     "name": "stdout",
     "output_type": "stream",
     "text": [
      "Accuracy: 36%)\n",
      "\n"
     ]
    },
    {
     "name": "stderr",
     "output_type": "stream",
     "text": [
      " 73%|███████▎  | 11/15 [53:13<46:45, 701.45s/it]"
     ]
    },
    {
     "name": "stdout",
     "output_type": "stream",
     "text": [
      "Accuracy: 37%)\n",
      "\n"
     ]
    },
    {
     "name": "stderr",
     "output_type": "stream",
     "text": [
      " 80%|████████  | 12/15 [54:45<25:47, 515.83s/it]"
     ]
    },
    {
     "name": "stdout",
     "output_type": "stream",
     "text": [
      "Accuracy: 37%)\n",
      "\n"
     ]
    },
    {
     "name": "stderr",
     "output_type": "stream",
     "text": [
      " 87%|████████▋ | 13/15 [56:00<12:44, 382.42s/it]"
     ]
    },
    {
     "name": "stdout",
     "output_type": "stream",
     "text": [
      "Accuracy: 38%)\n",
      "\n"
     ]
    },
    {
     "name": "stderr",
     "output_type": "stream",
     "text": [
      " 93%|█████████▎| 14/15 [57:16<04:49, 289.72s/it]"
     ]
    },
    {
     "name": "stdout",
     "output_type": "stream",
     "text": [
      "Accuracy: 38%)\n",
      "\n"
     ]
    },
    {
     "name": "stderr",
     "output_type": "stream",
     "text": [
      "100%|██████████| 15/15 [58:31<00:00, 234.12s/it]"
     ]
    },
    {
     "name": "stdout",
     "output_type": "stream",
     "text": [
      "Accuracy: 39%)\n",
      "\n"
     ]
    },
    {
     "name": "stderr",
     "output_type": "stream",
     "text": [
      "\n"
     ]
    }
   ],
   "source": [
    "for epoch in tqdm(range(15)):  # Количество эпох\n",
    "    correct = 0\n",
    "    for data in test_loader:  # Итерация по данным\n",
    "        inputs, labels = data\n",
    "        optimizer.zero_grad()  # Обнуление градиентов\n",
    "        outputs = model(inputs)  # Прямой проход\n",
    "        loss = criterion(outputs, labels)  # Вычисление потерь\n",
    "        \n",
    "        loss.backward()  # Обратный проход\n",
    "        optimizer.step()  # Обновление весов\n",
    "        pred = outputs.argmax(dim=1, keepdim=True)\n",
    "        correct += pred.eq(labels).item()\n",
    "    print('Accuracy: {:.0f}%)\\n'.format(correct/len(test_loader)*100))"
   ]
  },
  {
   "cell_type": "code",
   "execution_count": 11,
   "id": "dc23c873-b711-4aac-886c-bf972989cf4c",
   "metadata": {
    "tags": []
   },
   "outputs": [
    {
     "data": {
      "text/plain": [
       "(tensor(6), 6)"
      ]
     },
     "execution_count": 11,
     "metadata": {},
     "output_type": "execute_result"
    }
   ],
   "source": [
    "number = 100\n",
    "test_img, test_label = test_loader.dataset[number]\n",
    "test_img = test_img.unsqueeze(0)\n",
    "torch.argmax(model(test_img)), test_label"
   ]
  },
  {
   "cell_type": "code",
   "execution_count": 12,
   "id": "56cc867b-e9c2-4b3a-935f-21da3ed811dd",
   "metadata": {
    "tags": []
   },
   "outputs": [
    {
     "name": "stdout",
     "output_type": "stream",
     "text": [
      "Pred = 7, Label = 7\n",
      "Pred = 6, Label = 2\n",
      "Pred = 1, Label = 1\n",
      "Pred = 2, Label = 0\n",
      "Pred = 6, Label = 4\n",
      "Pred = 1, Label = 1\n",
      "Pred = 6, Label = 4\n",
      "Pred = 9, Label = 9\n",
      "Pred = 2, Label = 5\n",
      "Pred = 5, Label = 9\n",
      "Pred = 3, Label = 0\n",
      "Pred = 6, Label = 6\n",
      "Pred = 4, Label = 9\n",
      "Pred = 4, Label = 0\n",
      "Pred = 8, Label = 1\n"
     ]
    }
   ],
   "source": [
    "#посмотрим как модель предсказывает цифры\n",
    "for number in range(15):\n",
    "    test_img, test_label = test_loader.dataset[number]\n",
    "    test_img = test_img.unsqueeze(0)\n",
    "    print(f\"Pred = {torch.argmax(model(test_img))}, Label = {test_label}\")"
   ]
  },
  {
   "cell_type": "markdown",
   "id": "01e1fd3e-ec6a-4ae1-8f15-06f27b653ce4",
   "metadata": {},
   "source": [
    "## Визуализация прогнозов модели"
   ]
  },
  {
   "cell_type": "code",
   "execution_count": 13,
   "id": "aa3000e0-33ed-43b2-9aaa-74472c787b8a",
   "metadata": {
    "tags": []
   },
   "outputs": [
    {
     "data": {
      "image/png": "[encoded data removed]",
      "text/plain": [
       "<Figure size 640x480 with 8 Axes>"
      ]
     },
     "metadata": {},
     "output_type": "display_data"
    }
   ],
   "source": [
    "fig, ax = plt.subplots(1,8)\n",
    "for number in range(8):\n",
    "    test_img, test_label = test_loader.dataset[number]\n",
    "    test_img = test_img.unsqueeze(0)\n",
    "    pred = torch.argmax(model(test_img))\n",
    "    ax[number].imshow(test_img[0][0].numpy())\n",
    "    ax[number].set_title(f\"P = {pred}\")"
   ]
  },
  {
   "cell_type": "markdown",
   "id": "89eb827d-8a57-4253-96e2-c5c38e2a7696",
   "metadata": {},
   "source": [
    "### Обучение модели линеной регрессии"
   ]
  },
  {
   "cell_type": "code",
   "execution_count": 4,
   "id": "58569ba0-9c2b-4cbb-8869-073259d1279b",
   "metadata": {
    "tags": []
   },
   "outputs": [],
   "source": [
    "import pandas as pd\n",
    "from sklearn.model_selection import train_test_split\n",
    "from sklearn.preprocessing import StandardScaler, OrdinalEncoder, OneHotEncoder, PowerTransformer\n",
    "from sklearn.pipeline import Pipeline\n",
    "from sklearn.compose import ColumnTransformer # т.н. преобразователь колонок\n",
    "from sklearn.linear_model import SGDRegressor\n",
    "from sklearn.metrics import mean_squared_error\n",
    "import numpy as np\n",
    "import matplotlib.pyplot as plt\n",
    "import pickle"
   ]
  },
  {
   "cell_type": "code",
   "execution_count": 5,
   "id": "7c154212-eef8-476e-b637-ae895d1a7107",
   "metadata": {
    "tags": []
   },
   "outputs": [],
   "source": [
    "#В качестве набора данных используется история продаж автомобилей. Для целевой переменной используем Price(euro) - стоимость авто"
   ]
  },
  {
   "cell_type": "code",
   "execution_count": 6,
   "id": "a773f73a-ee2e-4868-acda-f5fd2b3b49c4",
   "metadata": {
    "tags": []
   },
   "outputs": [
    {
     "data": {
      "text/html": [
       "<div>\n",
       "<style scoped>\n",
       "    .dataframe tbody tr th:only-of-type {\n",
       "        vertical-align: middle;\n",
       "    }\n",
       "\n",
       "    .dataframe tbody tr th {\n",
       "        vertical-align: top;\n",
       "    }\n",
       "\n",
       "    .dataframe thead th {\n",
       "        text-align: right;\n",
       "    }\n",
       "</style>\n",
       "<table border=\"1\" class=\"dataframe\">\n",
       "  <thead>\n",
       "    <tr style=\"text-align: right;\">\n",
       "      <th></th>\n",
       "      <th>Make</th>\n",
       "      <th>Model</th>\n",
       "      <th>Year</th>\n",
       "      <th>Style</th>\n",
       "      <th>Distance</th>\n",
       "      <th>Engine_capacity(cm3)</th>\n",
       "      <th>Fuel_type</th>\n",
       "      <th>Transmission</th>\n",
       "      <th>Price(euro)</th>\n",
       "    </tr>\n",
       "  </thead>\n",
       "  <tbody>\n",
       "    <tr>\n",
       "      <th>0</th>\n",
       "      <td>Toyota</td>\n",
       "      <td>Prius</td>\n",
       "      <td>2011</td>\n",
       "      <td>Hatchback</td>\n",
       "      <td>195000.0</td>\n",
       "      <td>1800.0</td>\n",
       "      <td>Hybrid</td>\n",
       "      <td>Automatic</td>\n",
       "      <td>7750.0</td>\n",
       "    </tr>\n",
       "    <tr>\n",
       "      <th>1</th>\n",
       "      <td>Renault</td>\n",
       "      <td>Grand Scenic</td>\n",
       "      <td>2014</td>\n",
       "      <td>Universal</td>\n",
       "      <td>135000.0</td>\n",
       "      <td>1500.0</td>\n",
       "      <td>Diesel</td>\n",
       "      <td>Manual</td>\n",
       "      <td>8550.0</td>\n",
       "    </tr>\n",
       "    <tr>\n",
       "      <th>2</th>\n",
       "      <td>Volkswagen</td>\n",
       "      <td>Golf</td>\n",
       "      <td>1998</td>\n",
       "      <td>Hatchback</td>\n",
       "      <td>1.0</td>\n",
       "      <td>1400.0</td>\n",
       "      <td>Petrol</td>\n",
       "      <td>Manual</td>\n",
       "      <td>2200.0</td>\n",
       "    </tr>\n",
       "    <tr>\n",
       "      <th>3</th>\n",
       "      <td>Renault</td>\n",
       "      <td>Laguna</td>\n",
       "      <td>2012</td>\n",
       "      <td>Universal</td>\n",
       "      <td>110000.0</td>\n",
       "      <td>1500.0</td>\n",
       "      <td>Diesel</td>\n",
       "      <td>Manual</td>\n",
       "      <td>6550.0</td>\n",
       "    </tr>\n",
       "    <tr>\n",
       "      <th>4</th>\n",
       "      <td>Opel</td>\n",
       "      <td>Astra</td>\n",
       "      <td>2006</td>\n",
       "      <td>Universal</td>\n",
       "      <td>200000.0</td>\n",
       "      <td>1600.0</td>\n",
       "      <td>Metan/Propan</td>\n",
       "      <td>Manual</td>\n",
       "      <td>4100.0</td>\n",
       "    </tr>\n",
       "    <tr>\n",
       "      <th>...</th>\n",
       "      <td>...</td>\n",
       "      <td>...</td>\n",
       "      <td>...</td>\n",
       "      <td>...</td>\n",
       "      <td>...</td>\n",
       "      <td>...</td>\n",
       "      <td>...</td>\n",
       "      <td>...</td>\n",
       "      <td>...</td>\n",
       "    </tr>\n",
       "    <tr>\n",
       "      <th>37259</th>\n",
       "      <td>Land Rover</td>\n",
       "      <td>Freelander</td>\n",
       "      <td>2002</td>\n",
       "      <td>Crossover</td>\n",
       "      <td>225000.0</td>\n",
       "      <td>1800.0</td>\n",
       "      <td>Metan/Propan</td>\n",
       "      <td>Manual</td>\n",
       "      <td>4400.0</td>\n",
       "    </tr>\n",
       "    <tr>\n",
       "      <th>37260</th>\n",
       "      <td>Dacia</td>\n",
       "      <td>Logan Mcv</td>\n",
       "      <td>2015</td>\n",
       "      <td>Universal</td>\n",
       "      <td>89000.0</td>\n",
       "      <td>1500.0</td>\n",
       "      <td>Diesel</td>\n",
       "      <td>Manual</td>\n",
       "      <td>7000.0</td>\n",
       "    </tr>\n",
       "    <tr>\n",
       "      <th>37261</th>\n",
       "      <td>Renault</td>\n",
       "      <td>Modus</td>\n",
       "      <td>2009</td>\n",
       "      <td>Hatchback</td>\n",
       "      <td>225.0</td>\n",
       "      <td>1500.0</td>\n",
       "      <td>Diesel</td>\n",
       "      <td>Manual</td>\n",
       "      <td>4500.0</td>\n",
       "    </tr>\n",
       "    <tr>\n",
       "      <th>37262</th>\n",
       "      <td>Mazda</td>\n",
       "      <td>6</td>\n",
       "      <td>2006</td>\n",
       "      <td>Combi</td>\n",
       "      <td>370000.0</td>\n",
       "      <td>2000.0</td>\n",
       "      <td>Diesel</td>\n",
       "      <td>Manual</td>\n",
       "      <td>4000.0</td>\n",
       "    </tr>\n",
       "    <tr>\n",
       "      <th>37263</th>\n",
       "      <td>Renault</td>\n",
       "      <td>Grand Scenic</td>\n",
       "      <td>2006</td>\n",
       "      <td>Minivan</td>\n",
       "      <td>300000.0</td>\n",
       "      <td>1500.0</td>\n",
       "      <td>Diesel</td>\n",
       "      <td>Manual</td>\n",
       "      <td>4000.0</td>\n",
       "    </tr>\n",
       "  </tbody>\n",
       "</table>\n",
       "<p>37264 rows × 9 columns</p>\n",
       "</div>"
      ],
      "text/plain": [
       "             Make         Model  Year      Style  Distance  \\\n",
       "0          Toyota         Prius  2011  Hatchback  195000.0   \n",
       "1         Renault  Grand Scenic  2014  Universal  135000.0   \n",
       "2      Volkswagen          Golf  1998  Hatchback       1.0   \n",
       "3         Renault        Laguna  2012  Universal  110000.0   \n",
       "4            Opel         Astra  2006  Universal  200000.0   \n",
       "...           ...           ...   ...        ...       ...   \n",
       "37259  Land Rover    Freelander  2002  Crossover  225000.0   \n",
       "37260       Dacia     Logan Mcv  2015  Universal   89000.0   \n",
       "37261     Renault         Modus  2009  Hatchback     225.0   \n",
       "37262       Mazda             6  2006      Combi  370000.0   \n",
       "37263     Renault  Grand Scenic  2006    Minivan  300000.0   \n",
       "\n",
       "       Engine_capacity(cm3)     Fuel_type Transmission  Price(euro)  \n",
       "0                    1800.0        Hybrid    Automatic       7750.0  \n",
       "1                    1500.0        Diesel       Manual       8550.0  \n",
       "2                    1400.0        Petrol       Manual       2200.0  \n",
       "3                    1500.0        Diesel       Manual       6550.0  \n",
       "4                    1600.0  Metan/Propan       Manual       4100.0  \n",
       "...                     ...           ...          ...          ...  \n",
       "37259                1800.0  Metan/Propan       Manual       4400.0  \n",
       "37260                1500.0        Diesel       Manual       7000.0  \n",
       "37261                1500.0        Diesel       Manual       4500.0  \n",
       "37262                2000.0        Diesel       Manual       4000.0  \n",
       "37263                1500.0        Diesel       Manual       4000.0  \n",
       "\n",
       "[37264 rows x 9 columns]"
      ]
     },
     "execution_count": 6,
     "metadata": {},
     "output_type": "execute_result"
    }
   ],
   "source": [
    "df = pd.read_csv('https://raw.githubusercontent.com/dayekb/Basic_ML_Alg/main/cars_moldova_no_dup.csv', delimiter = ',')\n",
    "df"
   ]
  },
  {
   "cell_type": "raw",
   "id": "e89af91f-1913-464a-b944-cf89ad94de1a",
   "metadata": {},
   "source": [
    "Предобработка данных для работы обучения модели.\n",
    "\n",
    "Кодирование категориальных признаков и мастабирование входных данных и целевой переменной"
   ]
  },
  {
   "cell_type": "code",
   "execution_count": 7,
   "id": "7501f0d1-d9cb-4bde-99cd-80b7ac7e203a",
   "metadata": {
    "tags": []
   },
   "outputs": [],
   "source": [
    "\n",
    "cat_columns = ['Make', 'Model', 'Style', 'Fuel_type', 'Transmission']\n",
    "num_columns = ['Year', 'Distance', 'Engine_capacity(cm3)', 'Price(euro)']\n",
    "\n",
    "question_dist = df[(df.Year <2021) & (df.Distance < 1100)]\n",
    "df = df.drop(question_dist.index)\n",
    "# Анализ и очистка данных\n",
    "# анализ гистограмм\n",
    "question_dist = df[(df.Distance > 1e6)]\n",
    "df = df.drop(question_dist.index)\n",
    "\n",
    "# здравый смысл\n",
    "question_engine = df[df[\"Engine_capacity(cm3)\"] < 200]\n",
    "df = df.drop(question_engine.index)\n",
    "\n",
    "# здравый смысл\n",
    "question_engine = df[df[\"Engine_capacity(cm3)\"] > 5000]\n",
    "df = df.drop(question_engine.index)\n",
    "\n",
    "# здравый смысл\n",
    "question_price = df[(df[\"Price(euro)\"] < 101)]\n",
    "df = df.drop(question_price.index)\n",
    "\n",
    "# анализ гистограмм\n",
    "question_price = df[df[\"Price(euro)\"] > 1e5]\n",
    "df = df.drop(question_price.index)\n",
    "\n",
    "#анализ гистограмм\n",
    "question_year = df[df.Year < 1971]\n",
    "df = df.drop(question_year.index)\n",
    "\n",
    "df = df.reset_index(drop=True)  # обновим индексы в датафрейме DF. если бы мы прописали drop = False, то была бы еще одна колонка - старые индексы\n",
    "# Разделение данных на признаки и целевую переменную\n",
    "\n",
    "\n",
    "# Предварительная обработка категориальных данных\n",
    "# Порядковое кодирование. Обучение, трансформация и упаковка в df\n",
    "\n",
    "ordinal = OrdinalEncoder()\n",
    "ordinal.fit(df[cat_columns]);\n",
    "Ordinal_encoded = ordinal.transform(df[cat_columns])\n",
    "df_ordinal = pd.DataFrame(Ordinal_encoded, columns=cat_columns)\n",
    "df[cat_columns] = df_ordinal[cat_columns]"
   ]
  },
  {
   "cell_type": "code",
   "execution_count": 8,
   "id": "70e9cf0a-1ae6-40ca-9ac2-44d439dcc007",
   "metadata": {
    "tags": []
   },
   "outputs": [],
   "source": [
    "X,y = df.drop(columns = ['Price(euro)']), df['Price(euro)']\n",
    "scaler = StandardScaler()\n",
    "power_trans = PowerTransformer()\n",
    "X_scale = scaler.fit_transform(X.values)\n",
    "\n",
    "Y_scale = power_trans.fit_transform(y.values.reshape(-1,1))"
   ]
  },
  {
   "cell_type": "code",
   "execution_count": 9,
   "id": "84997ae9-3872-4040-85b5-f8c64663d8d4",
   "metadata": {
    "tags": []
   },
   "outputs": [],
   "source": [
    "features_names = X.columns.to_list()"
   ]
  },
  {
   "cell_type": "code",
   "execution_count": 10,
   "id": "b336c5b3-02a8-49e5-954a-82e56bc3f433",
   "metadata": {
    "tags": []
   },
   "outputs": [],
   "source": [
    "# разбиваем на тестовую и валидационную выборки\n",
    "X_train, X_val, y_train, y_val = train_test_split(X_scale, Y_scale,\n",
    "                                                  test_size=0.3,\n",
    "                                                  random_state=42)"
   ]
  },
  {
   "cell_type": "markdown",
   "id": "78e3ab42-051f-4cbb-8171-d93332ac1c88",
   "metadata": {},
   "source": [
    "### Обучение линейной регрессии"
   ]
  },
  {
   "cell_type": "code",
   "execution_count": 11,
   "id": "47d79259-0670-4f97-b514-40b5a85807a7",
   "metadata": {
    "tags": []
   },
   "outputs": [
    {
     "name": "stdout",
     "output_type": "stream",
     "text": [
      "R^2 =  0.709535181823625\n"
     ]
    },
    {
     "name": "stderr",
     "output_type": "stream",
     "text": [
      "C:\\Users\\HUAWEI\\anaconda\\Lib\\site-packages\\sklearn\\utils\\validation.py:1184: DataConversionWarning: A column-vector y was passed when a 1d array was expected. Please change the shape of y to (n_samples, ), for example using ravel().\n",
      "  y = column_or_1d(y, warn=True)\n"
     ]
    }
   ],
   "source": [
    "model = SGDRegressor()\n",
    "model.fit(X_train, y_train)\n",
    "r = model.score(X_train, y_train)\n",
    "print('R^2 = ', r) # Метрика R^2"
   ]
  },
  {
   "cell_type": "markdown",
   "id": "b53993e7-4141-4b9a-96c2-9a49632e0dd1",
   "metadata": {},
   "source": [
    "### Оценим ошибку модели"
   ]
  },
  {
   "cell_type": "code",
   "execution_count": 14,
   "id": "72fc0c8e-465e-4b5c-80a6-6d469da72c9b",
   "metadata": {
    "tags": []
   },
   "outputs": [
    {
     "name": "stdout",
     "output_type": "stream",
     "text": [
      "Средняя ошибка прогноза модели = 33207647.48874054\n"
     ]
    }
   ],
   "source": [
    "y_pred = model.predict(X_val)\n",
    "y_price = power_trans.inverse_transform(y_pred.reshape(-1,1))\n",
    "print(\"Средняя ошибка прогноза модели =\", mean_squared_error(power_trans.inverse_transform(y_val.reshape(-1,1)), y_price))"
   ]
  },
  {
   "cell_type": "code",
   "execution_count": 15,
   "id": "1ff279a1-b841-47cb-9063-de3e5399d2fd",
   "metadata": {
    "tags": []
   },
   "outputs": [
    {
     "data": {
      "text/plain": [
       "<matplotlib.legend.Legend at 0x1eabd85f290>"
      ]
     },
     "execution_count": 15,
     "metadata": {},
     "output_type": "execute_result"
    },
    {
     "data": {
      "image/png": "[encoded data removed]",
      "text/plain": [
       "<Figure size 1800x700 with 2 Axes>"
      ]
     },
     "metadata": {},
     "output_type": "display_data"
    }
   ],
   "source": [
    "y = power_trans.inverse_transform(y_val.reshape(-1,1))\n",
    "fig,ax = plt.subplots(1,2, dpi = 100, figsize=(18,7))\n",
    "ax[0].scatter( y, y_price,)\n",
    "ax[0].set_xlabel('Price')\n",
    "ax[0].set_ylabel('Прогноз модели')\n",
    "\n",
    "ax[1].hist( y,50)\n",
    "ax[1].hist( y_price,50, label='Прогноз')\n",
    "\n",
    "ax[1].set_xlabel('Price')\n",
    "ax[1].set_ylabel('N')\n",
    "ax[1].legend()"
   ]
  },
  {
   "cell_type": "code",
   "execution_count": 16,
   "id": "e929d252-46d5-459f-b02b-c5bef0dd4264",
   "metadata": {
    "tags": []
   },
   "outputs": [],
   "source": [
    "##Сохраним модель\n",
    "with open('model_lr.pkl', 'wb') as file:\n",
    "    pickle.dump(model, file)"
   ]
  },
  {
   "cell_type": "markdown",
   "id": "3d8c549b-d6e4-4eff-9edc-55cdb84f56e8",
   "metadata": {},
   "source": [
    "### Задание. Лабораторная работа №1"
   ]
  },
  {
   "cell_type": "markdown",
   "id": "9454d2ad-1b1e-4fb3-9b70-bedff787f2f3",
   "metadata": {},
   "source": [
    "1.Выполнить установку и настройку необходимых библитек для работы с ML. Выполнить ячейки ноутбука (5 баллов)\n",
    "\n",
    "2.Произвести обучение одной модели (Нейронной сети или линейнойной регрессии) (5 баллов)\n",
    "\n",
    "За обучение модели на своих данных +5 баллов "
   ]
  },
  {
   "cell_type": "code",
   "execution_count": null,
   "id": "988c2e11-e440-4fc4-a905-8132854c7221",
   "metadata": {},
   "outputs": [],
   "source": [
    "# Белоброва Лиза АТ-04"
   ]
  }
 ],
 "metadata": {
  "kernelspec": {
   "display_name": "Python 3 (ipykernel)",
   "language": "python",
   "name": "python3"
  },
  "language_info": {
   "codemirror_mode": {
    "name": "ipython",
    "version": 3
   },
   "file_extension": ".py",
   "mimetype": "text/x-python",
   "name": "python",
   "nbconvert_exporter": "python",
   "pygments_lexer": "ipython3",
   "version": "3.11.5"
  }
 },
 "nbformat": 4,
 "nbformat_minor": 5
}
