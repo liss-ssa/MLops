{
 "cells": [
  {
   "cell_type": "code",
   "execution_count": 33,
   "id": "d7c939b9-cedb-4d70-b649-3a527413e6f3",
   "metadata": {
    "tags": []
   },
   "outputs": [],
   "source": [
    "import pandas as pd\n",
    "from sklearn.model_selection import train_test_split\n",
    "from sklearn.preprocessing import StandardScaler, OrdinalEncoder, OneHotEncoder, PowerTransformer\n",
    "from sklearn.pipeline import Pipeline\n",
    "from sklearn.compose import ColumnTransformer # т.н. преобразователь колонок\n",
    "from sklearn.linear_model import SGDRegressor\n",
    "from sklearn.metrics import mean_squared_error\n",
    "import numpy as np\n",
    "import matplotlib.pyplot as plt\n",
    "import pickle\n",
    "import mlflow\n",
    "from sklearn.metrics import mean_absolute_error, mean_squared_error, r2_score\n",
    "from mlflow.models import infer_signature\n",
    "from sklearn.model_selection import GridSearchCV"
   ]
  },
  {
   "cell_type": "code",
   "execution_count": 34,
   "id": "4c3580c5-edcd-4a24-bd80-0cef8aa71c47",
   "metadata": {
    "tags": []
   },
   "outputs": [],
   "source": [
    "def preprocessing_data_frame(frame):\n",
    "    df = frame.copy()\n",
    "    cat_columns = ['Make', 'Model', 'Style', 'Fuel_type', 'Transmission']\n",
    "    num_columns = ['Year', 'Distance', 'Engine_capacity(cm3)', 'Price(euro)']\n",
    "    \n",
    "    question_dist = df[(df.Year <2021) & (df.Distance < 1100)]\n",
    "    df = df.drop(question_dist.index)\n",
    "    # Анализ и очистка данных\n",
    "    # анализ гистограмм\n",
    "    question_dist = df[(df.Distance > 1e6)]\n",
    "    df = df.drop(question_dist.index)\n",
    "    \n",
    "    # здравый смысл\n",
    "    question_engine = df[df[\"Engine_capacity(cm3)\"] < 200]\n",
    "    df = df.drop(question_engine.index)\n",
    "    \n",
    "    # здравый смысл\n",
    "    question_engine = df[df[\"Engine_capacity(cm3)\"] > 5000]\n",
    "    df = df.drop(question_engine.index)\n",
    "    \n",
    "    # здравый смысл\n",
    "    question_price = df[(df[\"Price(euro)\"] < 101)]\n",
    "    df = df.drop(question_price.index)\n",
    "    \n",
    "    # анализ гистограмм\n",
    "    question_price = df[df[\"Price(euro)\"] > 1e5]\n",
    "    df = df.drop(question_price.index)\n",
    "    \n",
    "    #анализ гистограмм\n",
    "    question_year = df[df.Year < 1971]\n",
    "    df = df.drop(question_year.index)\n",
    "    \n",
    "    df = df.reset_index(drop=True)  # обновим индексы в датафрейме DF. если бы мы прописали drop = False, то была бы еще одна колонка - старые индексы\n",
    "    # Разделение данных на признаки и целевую переменную\n",
    "    \n",
    "    \n",
    "    # Предварительная обработка категориальных данных\n",
    "    # Порядковое кодирование. Обучение, трансформация и упаковка в df\n",
    "    \n",
    "    ordinal = OrdinalEncoder()\n",
    "    ordinal.fit(df[cat_columns]);\n",
    "    Ordinal_encoded = ordinal.transform(df[cat_columns])\n",
    "    df_ordinal = pd.DataFrame(Ordinal_encoded, columns=cat_columns)\n",
    "    df[cat_columns] = df_ordinal[cat_columns]\n",
    "    return df\n",
    "\n",
    "def scale_frame(frame):\n",
    "    df = frame.copy()\n",
    "    X,y = df.drop(columns = ['Price(euro)']), df['Price(euro)']\n",
    "    scaler = StandardScaler()\n",
    "    power_trans = PowerTransformer()\n",
    "    X_scale = scaler.fit_transform(X.values)\n",
    "    Y_scale = power_trans.fit_transform(y.values.reshape(-1,1))\n",
    "    return X_scale, Y_scale, power_trans"
   ]
  },
  {
   "cell_type": "code",
   "execution_count": 35,
   "id": "f5d8e58c-c454-4b0d-a590-0aa7d06b89f7",
   "metadata": {
    "tags": []
   },
   "outputs": [
    {
     "data": {
      "text/html": [
       "<div>\n",
       "<style scoped>\n",
       "    .dataframe tbody tr th:only-of-type {\n",
       "        vertical-align: middle;\n",
       "    }\n",
       "\n",
       "    .dataframe tbody tr th {\n",
       "        vertical-align: top;\n",
       "    }\n",
       "\n",
       "    .dataframe thead th {\n",
       "        text-align: right;\n",
       "    }\n",
       "</style>\n",
       "<table border=\"1\" class=\"dataframe\">\n",
       "  <thead>\n",
       "    <tr style=\"text-align: right;\">\n",
       "      <th></th>\n",
       "      <th>Make</th>\n",
       "      <th>Model</th>\n",
       "      <th>Year</th>\n",
       "      <th>Style</th>\n",
       "      <th>Distance</th>\n",
       "      <th>Engine_capacity(cm3)</th>\n",
       "      <th>Fuel_type</th>\n",
       "      <th>Transmission</th>\n",
       "      <th>Price(euro)</th>\n",
       "    </tr>\n",
       "  </thead>\n",
       "  <tbody>\n",
       "    <tr>\n",
       "      <th>0</th>\n",
       "      <td>Toyota</td>\n",
       "      <td>Prius</td>\n",
       "      <td>2011</td>\n",
       "      <td>Hatchback</td>\n",
       "      <td>195000.0</td>\n",
       "      <td>1800.0</td>\n",
       "      <td>Hybrid</td>\n",
       "      <td>Automatic</td>\n",
       "      <td>7750.0</td>\n",
       "    </tr>\n",
       "    <tr>\n",
       "      <th>1</th>\n",
       "      <td>Renault</td>\n",
       "      <td>Grand Scenic</td>\n",
       "      <td>2014</td>\n",
       "      <td>Universal</td>\n",
       "      <td>135000.0</td>\n",
       "      <td>1500.0</td>\n",
       "      <td>Diesel</td>\n",
       "      <td>Manual</td>\n",
       "      <td>8550.0</td>\n",
       "    </tr>\n",
       "    <tr>\n",
       "      <th>2</th>\n",
       "      <td>Volkswagen</td>\n",
       "      <td>Golf</td>\n",
       "      <td>1998</td>\n",
       "      <td>Hatchback</td>\n",
       "      <td>1.0</td>\n",
       "      <td>1400.0</td>\n",
       "      <td>Petrol</td>\n",
       "      <td>Manual</td>\n",
       "      <td>2200.0</td>\n",
       "    </tr>\n",
       "    <tr>\n",
       "      <th>3</th>\n",
       "      <td>Renault</td>\n",
       "      <td>Laguna</td>\n",
       "      <td>2012</td>\n",
       "      <td>Universal</td>\n",
       "      <td>110000.0</td>\n",
       "      <td>1500.0</td>\n",
       "      <td>Diesel</td>\n",
       "      <td>Manual</td>\n",
       "      <td>6550.0</td>\n",
       "    </tr>\n",
       "    <tr>\n",
       "      <th>4</th>\n",
       "      <td>Opel</td>\n",
       "      <td>Astra</td>\n",
       "      <td>2006</td>\n",
       "      <td>Universal</td>\n",
       "      <td>200000.0</td>\n",
       "      <td>1600.0</td>\n",
       "      <td>Metan/Propan</td>\n",
       "      <td>Manual</td>\n",
       "      <td>4100.0</td>\n",
       "    </tr>\n",
       "  </tbody>\n",
       "</table>\n",
       "</div>"
      ],
      "text/plain": [
       "         Make         Model  Year      Style  Distance  Engine_capacity(cm3)  \\\n",
       "0      Toyota         Prius  2011  Hatchback  195000.0                1800.0   \n",
       "1     Renault  Grand Scenic  2014  Universal  135000.0                1500.0   \n",
       "2  Volkswagen          Golf  1998  Hatchback       1.0                1400.0   \n",
       "3     Renault        Laguna  2012  Universal  110000.0                1500.0   \n",
       "4        Opel         Astra  2006  Universal  200000.0                1600.0   \n",
       "\n",
       "      Fuel_type Transmission  Price(euro)  \n",
       "0        Hybrid    Automatic       7750.0  \n",
       "1        Diesel       Manual       8550.0  \n",
       "2        Petrol       Manual       2200.0  \n",
       "3        Diesel       Manual       6550.0  \n",
       "4  Metan/Propan       Manual       4100.0  "
      ]
     },
     "execution_count": 35,
     "metadata": {},
     "output_type": "execute_result"
    }
   ],
   "source": [
    "df = pd.read_csv('https://raw.githubusercontent.com/dayekb/Basic_ML_Alg/main/cars_moldova_no_dup.csv', delimiter = ',')\n",
    "df.head()"
   ]
  },
  {
   "cell_type": "code",
   "execution_count": 36,
   "id": "dd8872b9-e6bd-44cd-aca8-2ce1c2c9d551",
   "metadata": {
    "tags": []
   },
   "outputs": [],
   "source": [
    "df_proc = preprocessing_data_frame(df)\n",
    "X,Y, power_trans = scale_frame(df_proc)\n",
    "# разбиваем на тестовую и валидационную выборки\n",
    "X_train, X_val, y_train, y_val = train_test_split(X, Y,\n",
    "                                                  test_size=0.3,\n",
    "                                                  random_state=42)"
   ]
  },
  {
   "cell_type": "code",
   "execution_count": 37,
   "id": "d2db4809-6894-4f43-83f5-d8b927339075",
   "metadata": {
    "tags": []
   },
   "outputs": [],
   "source": [
    "def eval_metrics(actual, pred):\n",
    "    rmse = np.sqrt(mean_squared_error(actual, pred))\n",
    "    mae = mean_absolute_error(actual, pred)\n",
    "    r2 = r2_score(actual, pred)\n",
    "    return rmse, mae, r2"
   ]
  },
  {
   "cell_type": "code",
   "execution_count": 38,
   "id": "08684901-65f0-459e-9be7-a55e0413067f",
   "metadata": {
    "scrolled": true,
    "tags": []
   },
   "outputs": [
    {
     "name": "stdout",
     "output_type": "stream",
     "text": [
      "🏃 View run clean-fly-198 at: http://127.0.0.1:5000/#/experiments/0/runs/d684608501eb485eb71c5a6c6bf22e78\n",
      "🧪 View experiment at: http://127.0.0.1:5000/#/experiments/0\n"
     ]
    }
   ],
   "source": [
    "params = {'alpha': [0.0001, 0.001, 0.01, 0.05, 0.1 ],\n",
    "      'l1_ratio': [0.001, 0.05, 0.01, 0.2],\n",
    "      'penalty': ['l1', 'l2', 'elasticnet'],   \n",
    " }\n",
    "\n",
    "mlflow.set_experiment = ('linear model cars')\n",
    "with mlflow.start_run():\n",
    "\n",
    "    lr = SGDRegressor(random_state=42)\n",
    "    clf = GridSearchCV(lr, params, cv = 5)\n",
    "    clf.fit(X_train, y_train.reshape(-1))\n",
    "    best = clf.best_estimator_\n",
    "    y_pred = best.predict(X_val)\n",
    "    y_price_pred = power_trans.inverse_transform(y_pred.reshape(-1,1))\n",
    "    (rmse, mae, r2)  = eval_metrics(power_trans.inverse_transform(y_val), y_price_pred)\n",
    "    alpha = best.alpha\n",
    "    l1_ratio = best.l1_ratio\n",
    "    penalty = best.penalty\n",
    "    eta0 = best.eta0\n",
    "    mlflow.log_param(\"alpha\", alpha)\n",
    "    mlflow.log_param(\"l1_ratio\", l1_ratio)\n",
    "    mlflow.log_param(\"penalty\", penalty)\n",
    "    mlflow.log_param(\"eta0\", eta0)\n",
    "    \n",
    "    mlflow.log_metric(\"rmse\", rmse)\n",
    "    mlflow.log_metric(\"r2\", r2)\n",
    "    mlflow.log_metric(\"mae\", mae)\n",
    "    \n",
    "    predictions = best.predict(X_train)\n",
    "    signature = infer_signature(X_train, predictions)\n",
    "    mlflow.sklearn.log_model(best, \"model\", signature=signature)"
   ]
  },
  {
   "cell_type": "code",
   "execution_count": 14,
   "id": "bd49e86d-ce31-4567-9fef-541ac108ebe4",
   "metadata": {},
   "outputs": [],
   "source": [
    "mlflow.set_tracking_uri(uri=\"http://127.0.0.1:5000\")"
   ]
  },
  {
   "cell_type": "code",
   "execution_count": 41,
   "id": "1c61f7ce-2437-471f-a428-f140a3c3efc7",
   "metadata": {
    "tags": []
   },
   "outputs": [],
   "source": [
    "import joblib"
   ]
  },
  {
   "cell_type": "code",
   "execution_count": 47,
   "id": "293ebccb-4a94-4203-9729-ab0f3ce67c78",
   "metadata": {
    "tags": []
   },
   "outputs": [
    {
     "ename": "OSError",
     "evalue": "[Errno 22] Invalid argument: 'C:/Users/HUAWEI/Desktop/MLOps/mlartifacts/0/d684608501eb485eb71c5a6c6bf22e78\\x07rtifacts\\\\model\\\\model.pkl'",
     "output_type": "error",
     "traceback": [
      "\u001b[1;31m---------------------------------------------------------------------------\u001b[0m",
      "\u001b[1;31mOSError\u001b[0m                                   Traceback (most recent call last)",
      "Cell \u001b[1;32mIn[47], line 2\u001b[0m\n\u001b[0;32m      1\u001b[0m joblib_file \u001b[38;5;241m=\u001b[39m \u001b[38;5;124m\"\u001b[39m\u001b[38;5;124mC:/Users/HUAWEI/Desktop/MLOps/mlartifacts/0/d684608501eb485eb71c5a6c6bf22e78\u001b[39m\u001b[38;5;130;01m\\a\u001b[39;00m\u001b[38;5;124mrtifacts\u001b[39m\u001b[38;5;124m\\\u001b[39m\u001b[38;5;124mmodel\u001b[39m\u001b[38;5;124m\\\u001b[39m\u001b[38;5;124mmodel.pkl\u001b[39m\u001b[38;5;124m\"\u001b[39m\n\u001b[1;32m----> 2\u001b[0m joblib_model \u001b[38;5;241m=\u001b[39m joblib\u001b[38;5;241m.\u001b[39mload(joblib_file)\n\u001b[0;32m      3\u001b[0m y \u001b[38;5;241m=\u001b[39m power_trans\u001b[38;5;241m.\u001b[39minverse_transform(joblib_model\u001b[38;5;241m.\u001b[39mpredict(X_val)\u001b[38;5;241m.\u001b[39mreshape(\u001b[38;5;241m-\u001b[39m\u001b[38;5;241m1\u001b[39m, \u001b[38;5;241m1\u001b[39m))\n\u001b[0;32m      4\u001b[0m plt\u001b[38;5;241m.\u001b[39mhist(y, \u001b[38;5;241m100\u001b[39m)\n",
      "File \u001b[1;32m~\\anaconda\\Lib\\site-packages\\joblib\\numpy_pickle.py:650\u001b[0m, in \u001b[0;36mload\u001b[1;34m(filename, mmap_mode)\u001b[0m\n\u001b[0;32m    648\u001b[0m         obj \u001b[38;5;241m=\u001b[39m _unpickle(fobj)\n\u001b[0;32m    649\u001b[0m \u001b[38;5;28;01melse\u001b[39;00m:\n\u001b[1;32m--> 650\u001b[0m     \u001b[38;5;28;01mwith\u001b[39;00m \u001b[38;5;28mopen\u001b[39m(filename, \u001b[38;5;124m'\u001b[39m\u001b[38;5;124mrb\u001b[39m\u001b[38;5;124m'\u001b[39m) \u001b[38;5;28;01mas\u001b[39;00m f:\n\u001b[0;32m    651\u001b[0m         \u001b[38;5;28;01mwith\u001b[39;00m _read_fileobject(f, filename, mmap_mode) \u001b[38;5;28;01mas\u001b[39;00m fobj:\n\u001b[0;32m    652\u001b[0m             \u001b[38;5;28;01mif\u001b[39;00m \u001b[38;5;28misinstance\u001b[39m(fobj, \u001b[38;5;28mstr\u001b[39m):\n\u001b[0;32m    653\u001b[0m                 \u001b[38;5;66;03m# if the returned file object is a string, this means we\u001b[39;00m\n\u001b[0;32m    654\u001b[0m                 \u001b[38;5;66;03m# try to load a pickle file generated with an version of\u001b[39;00m\n\u001b[0;32m    655\u001b[0m                 \u001b[38;5;66;03m# Joblib so we load it with joblib compatibility function.\u001b[39;00m\n",
      "\u001b[1;31mOSError\u001b[0m: [Errno 22] Invalid argument: 'C:/Users/HUAWEI/Desktop/MLOps/mlartifacts/0/d684608501eb485eb71c5a6c6bf22e78\\x07rtifacts\\\\model\\\\model.pkl'"
     ]
    }
   ],
   "source": [
    "joblib_file = \"C:/Users/HUAWEI/Desktop/MLOps/mlartifacts/0/d684608501eb485eb71c5a6c6bf22e78\\artifacts\\model\\model.pkl\"\n",
    "joblib_model = joblib.load(joblib_file)\n",
    "y = power_trans.inverse_transform(joblib_model.predict(X_val).reshape(-1, 1))\n",
    "plt.hist(y, 100);"
   ]
  },
  {
   "cell_type": "code",
   "execution_count": 43,
   "id": "ea442bf6-3a7d-45cb-be80-fa1a0935f129",
   "metadata": {
    "tags": []
   },
   "outputs": [
    {
     "data": {
      "text/html": [
       "<style>#sk-container-id-3 {color: black;}#sk-container-id-3 pre{padding: 0;}#sk-container-id-3 div.sk-toggleable {background-color: white;}#sk-container-id-3 label.sk-toggleable__label {cursor: pointer;display: block;width: 100%;margin-bottom: 0;padding: 0.3em;box-sizing: border-box;text-align: center;}#sk-container-id-3 label.sk-toggleable__label-arrow:before {content: \"▸\";float: left;margin-right: 0.25em;color: #696969;}#sk-container-id-3 label.sk-toggleable__label-arrow:hover:before {color: black;}#sk-container-id-3 div.sk-estimator:hover label.sk-toggleable__label-arrow:before {color: black;}#sk-container-id-3 div.sk-toggleable__content {max-height: 0;max-width: 0;overflow: hidden;text-align: left;background-color: #f0f8ff;}#sk-container-id-3 div.sk-toggleable__content pre {margin: 0.2em;color: black;border-radius: 0.25em;background-color: #f0f8ff;}#sk-container-id-3 input.sk-toggleable__control:checked~div.sk-toggleable__content {max-height: 200px;max-width: 100%;overflow: auto;}#sk-container-id-3 input.sk-toggleable__control:checked~label.sk-toggleable__label-arrow:before {content: \"▾\";}#sk-container-id-3 div.sk-estimator input.sk-toggleable__control:checked~label.sk-toggleable__label {background-color: #d4ebff;}#sk-container-id-3 div.sk-label input.sk-toggleable__control:checked~label.sk-toggleable__label {background-color: #d4ebff;}#sk-container-id-3 input.sk-hidden--visually {border: 0;clip: rect(1px 1px 1px 1px);clip: rect(1px, 1px, 1px, 1px);height: 1px;margin: -1px;overflow: hidden;padding: 0;position: absolute;width: 1px;}#sk-container-id-3 div.sk-estimator {font-family: monospace;background-color: #f0f8ff;border: 1px dotted black;border-radius: 0.25em;box-sizing: border-box;margin-bottom: 0.5em;}#sk-container-id-3 div.sk-estimator:hover {background-color: #d4ebff;}#sk-container-id-3 div.sk-parallel-item::after {content: \"\";width: 100%;border-bottom: 1px solid gray;flex-grow: 1;}#sk-container-id-3 div.sk-label:hover label.sk-toggleable__label {background-color: #d4ebff;}#sk-container-id-3 div.sk-serial::before {content: \"\";position: absolute;border-left: 1px solid gray;box-sizing: border-box;top: 0;bottom: 0;left: 50%;z-index: 0;}#sk-container-id-3 div.sk-serial {display: flex;flex-direction: column;align-items: center;background-color: white;padding-right: 0.2em;padding-left: 0.2em;position: relative;}#sk-container-id-3 div.sk-item {position: relative;z-index: 1;}#sk-container-id-3 div.sk-parallel {display: flex;align-items: stretch;justify-content: center;background-color: white;position: relative;}#sk-container-id-3 div.sk-item::before, #sk-container-id-3 div.sk-parallel-item::before {content: \"\";position: absolute;border-left: 1px solid gray;box-sizing: border-box;top: 0;bottom: 0;left: 50%;z-index: -1;}#sk-container-id-3 div.sk-parallel-item {display: flex;flex-direction: column;z-index: 1;position: relative;background-color: white;}#sk-container-id-3 div.sk-parallel-item:first-child::after {align-self: flex-end;width: 50%;}#sk-container-id-3 div.sk-parallel-item:last-child::after {align-self: flex-start;width: 50%;}#sk-container-id-3 div.sk-parallel-item:only-child::after {width: 0;}#sk-container-id-3 div.sk-dashed-wrapped {border: 1px dashed gray;margin: 0 0.4em 0.5em 0.4em;box-sizing: border-box;padding-bottom: 0.4em;background-color: white;}#sk-container-id-3 div.sk-label label {font-family: monospace;font-weight: bold;display: inline-block;line-height: 1.2em;}#sk-container-id-3 div.sk-label-container {text-align: center;}#sk-container-id-3 div.sk-container {/* jupyter's `normalize.less` sets `[hidden] { display: none; }` but bootstrap.min.css set `[hidden] { display: none !important; }` so we also need the `!important` here to be able to override the default hidden behavior on the sphinx rendered scikit-learn.org. See: https://github.com/scikit-learn/scikit-learn/issues/21755 */display: inline-block !important;position: relative;}#sk-container-id-3 div.sk-text-repr-fallback {display: none;}</style><div id=\"sk-container-id-3\" class=\"sk-top-container\"><div class=\"sk-text-repr-fallback\"><pre>SGDRegressor(random_state=42)</pre><b>In a Jupyter environment, please rerun this cell to show the HTML representation or trust the notebook. <br />On GitHub, the HTML representation is unable to render, please try loading this page with nbviewer.org.</b></div><div class=\"sk-container\" hidden><div class=\"sk-item\"><div class=\"sk-estimator sk-toggleable\"><input class=\"sk-toggleable__control sk-hidden--visually\" id=\"sk-estimator-id-3\" type=\"checkbox\" checked><label for=\"sk-estimator-id-3\" class=\"sk-toggleable__label sk-toggleable__label-arrow\">SGDRegressor</label><div class=\"sk-toggleable__content\"><pre>SGDRegressor(random_state=42)</pre></div></div></div></div></div>"
      ],
      "text/plain": [
       "SGDRegressor(random_state=42)"
      ]
     },
     "execution_count": 43,
     "metadata": {},
     "output_type": "execute_result"
    }
   ],
   "source": [
    "joblib_model"
   ]
  },
  {
   "cell_type": "code",
   "execution_count": null,
   "id": "cc30163f-8159-4f5e-8ed1-7cca7077d84c",
   "metadata": {},
   "outputs": [],
   "source": []
  }
 ],
 "metadata": {
  "kernelspec": {
   "display_name": "Python 3 (ipykernel)",
   "language": "python",
   "name": "python3"
  },
  "language_info": {
   "codemirror_mode": {
    "name": "ipython",
    "version": 3
   },
   "file_extension": ".py",
   "mimetype": "text/x-python",
   "name": "python",
   "nbconvert_exporter": "python",
   "pygments_lexer": "ipython3",
   "version": "3.11.5"
  }
 },
 "nbformat": 4,
 "nbformat_minor": 5
}
