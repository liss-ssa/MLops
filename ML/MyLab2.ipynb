{
 "cells": [
  {
   "cell_type": "code",
   "execution_count": null,
   "id": "bd49e86d-ce31-4567-9fef-541ac108ebe4",
   "metadata": {},
   "outputs": [],
   "source": [
    "mlflow.set_tracking_uri(uri=\"http://127.0.0.1:5000\")\n"
   ]
  },
  {
   "cell_type": "code",
   "execution_count": 19,
   "id": "ed474dc4-e42e-4d42-80ab-146974118452",
   "metadata": {
    "tags": []
   },
   "outputs": [
    {
     "data": {
      "application/vnd.jupyter.widget-view+json": {
       "model_id": "d04de9cd648345b8a9fcf30311d26a73",
       "version_major": 2,
       "version_minor": 0
      },
      "text/plain": [
       "Downloading artifacts:   0%|          | 0/7 [00:00<?, ?it/s]"
      ]
     },
     "metadata": {},
     "output_type": "display_data"
    },
    {
     "name": "stdout",
     "output_type": "stream",
     "text": [
      "🏃 View run persistent-dove-165 at: http://127.0.0.1:5000/#/experiments/0/runs/ade492adc556440fbfe0d0e508abc242\n",
      "🧪 View experiment at: http://127.0.0.1:5000/#/experiments/0\n"
     ]
    },
    {
     "data": {
      "application/vnd.jupyter.widget-view+json": {
       "model_id": "7dae88271b2c492abc81de8dcb80a69d",
       "version_major": 2,
       "version_minor": 0
      },
      "text/plain": [
       "Downloading artifacts:   0%|          | 0/7 [00:00<?, ?it/s]"
      ]
     },
     "metadata": {},
     "output_type": "display_data"
    },
    {
     "name": "stdout",
     "output_type": "stream",
     "text": [
      "Model: RandomForestRegressor\n",
      "RMSE: 2.197313749070595, MAE: 1.378368358064349, R2: 0.9994568152029927\n",
      "\n",
      "🏃 View run RandomForestRegressor at: http://127.0.0.1:5000/#/experiments/0/runs/1af0bd6a1ccd41a8bfab1c70e3fccb48\n",
      "🧪 View experiment at: http://127.0.0.1:5000/#/experiments/0\n"
     ]
    },
    {
     "data": {
      "application/vnd.jupyter.widget-view+json": {
       "model_id": "72929a7328434ebca42adcc83e0c2249",
       "version_major": 2,
       "version_minor": 0
      },
      "text/plain": [
       "Downloading artifacts:   0%|          | 0/7 [00:00<?, ?it/s]"
      ]
     },
     "metadata": {},
     "output_type": "display_data"
    },
    {
     "name": "stdout",
     "output_type": "stream",
     "text": [
      "Model: XGBRegressor\n",
      "RMSE: 2.3708667191173003, MAE: 1.4809213238590258, R2: 0.9993676205618424\n",
      "\n",
      "🏃 View run XGBRegressor at: http://127.0.0.1:5000/#/experiments/0/runs/393931391f304b2f86081526b609cb15\n",
      "🧪 View experiment at: http://127.0.0.1:5000/#/experiments/0\n"
     ]
    },
    {
     "data": {
      "application/vnd.jupyter.widget-view+json": {
       "model_id": "caa7122696ff44d6b30fa263c9697b80",
       "version_major": 2,
       "version_minor": 0
      },
      "text/plain": [
       "Downloading artifacts:   0%|          | 0/7 [00:00<?, ?it/s]"
      ]
     },
     "metadata": {},
     "output_type": "display_data"
    },
    {
     "name": "stdout",
     "output_type": "stream",
     "text": [
      "Best RandomForestRegressor - RMSE: 2.1806966846012847, MAE: 1.3622976733017935, R2: 0.9994649997482928\n",
      "🏃 View run Best_RandomForestRegressor at: http://127.0.0.1:5000/#/experiments/0/runs/11763c7fb9664c4bba0b9dd9273e48e7\n",
      "🧪 View experiment at: http://127.0.0.1:5000/#/experiments/0\n"
     ]
    }
   ],
   "source": [
    "import pandas as pd\n",
    "from sklearn.model_selection import train_test_split, GridSearchCV\n",
    "from sklearn.preprocessing import StandardScaler, PowerTransformer\n",
    "from sklearn.linear_model import SGDRegressor\n",
    "from sklearn.ensemble import RandomForestRegressor\n",
    "from xgboost import XGBRegressor\n",
    "from sklearn.metrics import mean_squared_error, mean_absolute_error, r2_score\n",
    "import numpy as np\n",
    "import mlflow\n",
    "from mlflow.models import infer_signature\n",
    "\n",
    "file_path = 'C:/Users/HUAWEI/Desktop/АиММО/Tesla.csv'\n",
    "df = pd.read_csv(file_path)\n",
    "\n",
    "def preprocess_tesla_data(df):\n",
    "    df = df.dropna()\n",
    "    df['Date'] = pd.to_datetime(df['Date'])\n",
    "    df = df.drop(columns=['Adj Close'])\n",
    "    X = df.drop(columns=['Close'])\n",
    "    y = df['Close']\n",
    "    return X, y\n",
    "\n",
    "# масштабируем данные\n",
    "def scale_features(X, y):\n",
    "    scaler = StandardScaler()\n",
    "    power_trans = PowerTransformer()\n",
    "    X_scaled = scaler.fit_transform(X.drop(columns=['Date']).values)\n",
    "    y_scaled = power_trans.fit_transform(y.values.reshape(-1, 1))\n",
    "    return X_scaled, y_scaled, power_trans\n",
    "\n",
    "# оценка метрик\n",
    "def eval_metrics(actual, pred):\n",
    "    rmse = np.sqrt(mean_squared_error(actual, pred))\n",
    "    mae = mean_absolute_error(actual, pred)\n",
    "    r2 = r2_score(actual, pred)\n",
    "    return rmse, mae, r2\n",
    "\n",
    "X, y = preprocess_tesla_data(df)\n",
    "X_scaled, y_scaled, power_trans = scale_features(X, y)\n",
    "\n",
    "# разбиваем на тестовую и валидационную выборки\n",
    "X_train, X_val, y_train, y_val = train_test_split(X_scaled, y_scaled, test_size=0.3, random_state=42)\n",
    "\n",
    "# опред гиперпараметров для SGDRegressor\n",
    "params = {\n",
    "    'alpha': [0.0001, 0.001, 0.01, 0.05, 0.1],\n",
    "    'l1_ratio': [0.001, 0.05, 0.01, 0.2],\n",
    "    'penalty': ['l1', 'l2', 'elasticnet'],\n",
    "}\n",
    "\n",
    "# обучение модели SGDRegressor с GridSearchCV\n",
    "lr = SGDRegressor(random_state=42)\n",
    "clf = GridSearchCV(lr, params, cv=5)\n",
    "clf.fit(X_train, y_train.ravel())\n",
    "best_model = clf.best_estimator_\n",
    "\n",
    "# предсказание на валидационной выборке\n",
    "y_pred = best_model.predict(X_val)\n",
    "y_price_pred = power_trans.inverse_transform(y_pred.reshape(-1, 1))\n",
    "\n",
    "# оценка метрик\n",
    "rmse, mae, r2 = eval_metrics(power_trans.inverse_transform(y_val), y_price_pred)\n",
    "\n",
    "# логирование\n",
    "with mlflow.start_run():\n",
    "    mlflow.log_param(\"alpha\", best_model.alpha)\n",
    "    mlflow.log_param(\"l1_ratio\", best_model.l1_ratio)\n",
    "    mlflow.log_param(\"penalty\", best_model.penalty)\n",
    "    mlflow.log_metric(\"rmse\", rmse)\n",
    "    mlflow.log_metric(\"mae\", mae)\n",
    "    mlflow.log_metric(\"r2\", r2)\n",
    "    signature = infer_signature(X_train, best_model.predict(X_train))\n",
    "    mlflow.sklearn.log_model(best_model, \"model\", signature=signature, input_example=X_train[:5])\n",
    "# сравниваем с другими моделями\n",
    "models = {\n",
    "    \"RandomForestRegressor\": RandomForestRegressor(random_state=42),\n",
    "    \"XGBRegressor\": XGBRegressor(random_state=42, eval_metric='rmse')\n",
    "}\n",
    "\n",
    "for name, model in models.items():\n",
    "    with mlflow.start_run(run_name=name):\n",
    "        model.fit(X_train, y_train.ravel())\n",
    "        y_pred = model.predict(X_val)\n",
    "        y_price_pred = power_trans.inverse_transform(y_pred.reshape(-1, 1))\n",
    "        rmse, mae, r2 = eval_metrics(power_trans.inverse_transform(y_val), y_price_pred)\n",
    "        mlflow.log_metric(\"rmse\", rmse)\n",
    "        mlflow.log_metric(\"mae\", mae)\n",
    "        mlflow.log_metric(\"r2\", r2)\n",
    "        mlflow.sklearn.log_model(model, \"model\", input_example=X_train[:5])\n",
    "        print(f\"Model: {name}\")\n",
    "        print(f\"RMSE: {rmse}, MAE: {mae}, R2: {r2}\\n\")\n",
    "\n",
    "rf_params = {\n",
    "    'n_estimators': [100, 200],\n",
    "    'max_depth': [None, 10, 20],\n",
    "    'min_samples_split': [2, 5]\n",
    "}\n",
    "\n",
    "rf_model = RandomForestRegressor(random_state=42)\n",
    "rf_grid = GridSearchCV(rf_model, rf_params, cv=5)\n",
    "rf_grid.fit(X_train, y_train.ravel())\n",
    "best_rf_model = rf_grid.best_estimator_\n",
    "\n",
    "# оценка лучшей модели RandomForestRegressor\n",
    "with mlflow.start_run(run_name=\"Best_RandomForestRegressor\"):\n",
    "    y_pred = best_rf_model.predict(X_val)\n",
    "    y_price_pred = power_trans.inverse_transform(y_pred.reshape(-1, 1))\n",
    "    rmse, mae, r2 = eval_metrics(power_trans.inverse_transform(y_val), y_price_pred)\n",
    "    mlflow.log_metric(\"rmse\", rmse)\n",
    "    mlflow.log_metric(\"mae\", mae)\n",
    "    mlflow.log_metric(\"r2\", r2)\n",
    "    mlflow.sklearn.log_model(best_rf_model, \"model\", input_example=X_train[:5])\n",
    "    print(f\"Best RandomForestRegressor - RMSE: {rmse}, MAE: {mae}, R2: {r2}\")\n"
   ]
  },
  {
   "cell_type": "code",
   "execution_count": 17,
   "id": "1c61f7ce-2437-471f-a428-f140a3c3efc7",
   "metadata": {
    "tags": []
   },
   "outputs": [],
   "source": [
    "mlflow.set_tracking_uri(uri=\"http://127.0.0.1:5000\")"
   ]
  },
  {
   "cell_type": "code",
   "execution_count": 20,
   "id": "61994a11-df06-4837-8584-dc120567344d",
   "metadata": {
    "tags": []
   },
   "outputs": [
    {
     "data": {
      "image/png": "[encoded data removed]",
      "text/plain": [
       "<Figure size 640x480 with 1 Axes>"
      ]
     },
     "metadata": {},
     "output_type": "display_data"
    }
   ],
   "source": [
    "import joblib\n",
    "joblib_file = \"C:/Users/HUAWEI/mlartifacts/0/1af0bd6a1ccd41a8bfab1c70e3fccb48/artifacts/model/model.pkl\"\n",
    "joblib_model = joblib.load(joblib_file)\n",
    "y = power_trans.inverse_transform(joblib_model.predict(X_val).reshape(-1, 1))\n",
    "plt.hist(y, 100);"
   ]
  },
  {
   "cell_type": "code",
   "execution_count": 21,
   "id": "77a22d0d-f1c3-4cc8-a03a-a134c91e7bcd",
   "metadata": {
    "tags": []
   },
   "outputs": [
    {
     "data": {
      "image/png": "[encoded data removed]",
      "text/plain": [
       "<Figure size 640x480 with 1 Axes>"
      ]
     },
     "metadata": {},
     "output_type": "display_data"
    }
   ],
   "source": [
    "import joblib\n",
    "joblib_file = \"C:/Users/HUAWEI/mlartifacts/0/9f29d90ba809476d8437521b904bbb87/artifacts/model/model.pkl\"\n",
    "joblib_model = joblib.load(joblib_file)\n",
    "y = power_trans.inverse_transform(joblib_model.predict(X_val).reshape(-1, 1))\n",
    "plt.hist(y, 100);"
   ]
  },
  {
   "cell_type": "code",
   "execution_count": 22,
   "id": "ffd30020-c8fd-4f94-9ff2-0f893634e86d",
   "metadata": {
    "tags": []
   },
   "outputs": [
    {
     "data": {
      "image/png": "[encoded data removed]",
      "text/plain": [
       "<Figure size 640x480 with 1 Axes>"
      ]
     },
     "metadata": {},
     "output_type": "display_data"
    }
   ],
   "source": [
    "import joblib\n",
    "joblib_file = \"C:/Users/HUAWEI/mlartifacts/0/11763c7fb9664c4bba0b9dd9273e48e7/artifacts/model/model.pkl\"\n",
    "joblib_model = joblib.load(joblib_file)\n",
    "y = power_trans.inverse_transform(joblib_model.predict(X_val).reshape(-1, 1))\n",
    "plt.hist(y, 100);"
   ]
  },
  {
   "cell_type": "code",
   "execution_count": null,
   "id": "bb4fc3b5-6d9f-4bc8-8107-1804b6e60073",
   "metadata": {},
   "outputs": [],
   "source": [
    "# Best_RandomForestRegressor показывает наилучшие результаты по всем метрикам \n",
    "# это значит то, что модель имеет наименьшую ошибку предсказания и лучше всего объясняет дисперсию данных"
   ]
  }
 ],
 "metadata": {
  "kernelspec": {
   "display_name": "Python 3 (ipykernel)",
   "language": "python",
   "name": "python3"
  },
  "language_info": {
   "codemirror_mode": {
    "name": "ipython",
    "version": 3
   },
   "file_extension": ".py",
   "mimetype": "text/x-python",
   "name": "python",
   "nbconvert_exporter": "python",
   "pygments_lexer": "ipython3",
   "version": "3.11.5"
  }
 },
 "nbformat": 4,
 "nbformat_minor": 5
}
